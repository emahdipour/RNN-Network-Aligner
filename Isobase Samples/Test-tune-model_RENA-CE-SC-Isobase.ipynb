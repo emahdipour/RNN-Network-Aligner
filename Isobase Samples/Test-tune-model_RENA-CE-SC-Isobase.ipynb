{
 "cells": [
  {
   "cell_type": "markdown",
   "metadata": {},
   "source": [
    "# This project implemented by Elham Mahdipour\n",
    "## I am a Ph.D. Graduate  of computer engineering at Yazd University, Yazd, Iran.\n",
    "## I am a Faculty Member of Computer Engineering Department at Khavaran Institute of Higher Education, Mashhad, Iran.\n",
    "### Please feel free and contact to me: elham.mahdipour@gmail.com/ e.mahdipour@profs.khi.ac.ir"
   ]
  },
  {
   "cell_type": "markdown",
   "metadata": {},
   "source": [
    "# Please run all cells for test the RENA model. This program test RENA tune model for CE-SC species."
   ]
  },
  {
   "cell_type": "markdown",
   "metadata": {},
   "source": [
    "# Phase 1 \n",
    "## Create Dataset and Preprocessing"
   ]
  },
  {
   "cell_type": "code",
   "execution_count": 2,
   "metadata": {},
   "outputs": [
    {
     "data": {
      "text/plain": [
       "<networkx.classes.graph.Graph at 0x1d6be7920f0>"
      ]
     },
     "execution_count": 2,
     "metadata": {},
     "output_type": "execute_result"
    }
   ],
   "source": [
    "import networkx as nx\n",
    "G1=nx.read_weighted_edgelist('large dataset\\sc-sc.evals')\n",
    "G1"
   ]
  },
  {
   "cell_type": "code",
   "execution_count": 3,
   "metadata": {},
   "outputs": [
    {
     "data": {
      "text/plain": [
       "<networkx.classes.graph.Graph at 0x1d6c1161e10>"
      ]
     },
     "execution_count": 3,
     "metadata": {},
     "output_type": "execute_result"
    }
   ],
   "source": [
    "G2=nx.read_weighted_edgelist('large dataset\\ce-ce.evals')\n",
    "G2"
   ]
  },
  {
   "cell_type": "code",
   "execution_count": 4,
   "metadata": {},
   "outputs": [
    {
     "name": "stdout",
     "output_type": "stream",
     "text": [
      "6613\n",
      "19702\n"
     ]
    }
   ],
   "source": [
    "### Check and Swap if G1 > G2 ###\n",
    "if len(G1)>len(G2):\n",
    "    temp=G1\n",
    "    G1=G2\n",
    "    G2=temp\n",
    "print(len(G1))\n",
    "print(len(G2))"
   ]
  },
  {
   "cell_type": "code",
   "execution_count": 5,
   "metadata": {},
   "outputs": [
    {
     "data": {
      "text/plain": [
       "<networkx.classes.graph.Graph at 0x1d6c8b668d0>"
      ]
     },
     "execution_count": 5,
     "metadata": {},
     "output_type": "execute_result"
    }
   ],
   "source": [
    "G_target_na=nx.read_weighted_edgelist('large dataset\\ce-sc.evals')\n",
    "G_target_na  "
   ]
  },
  {
   "cell_type": "code",
   "execution_count": 6,
   "metadata": {},
   "outputs": [],
   "source": [
    "ed1=G1.edges()\n",
    "ed2=G2.edges()\n",
    "\n",
    "nd1=G1.nodes()\n",
    "nd2=G2.nodes()\n",
    "\n",
    "el1=list(ed1)\n",
    "el2=list(ed2)\n",
    "\n",
    "nd1=list(nd1)\n",
    "nd2=list(nd2)\n",
    "\n",
    "degG1 = [val for (node, val) in G1.degree()]\n",
    "degG2 = [val for (node, val) in G2.degree()]"
   ]
  },
  {
   "cell_type": "markdown",
   "metadata": {},
   "source": [
    "# Feature Extraction"
   ]
  },
  {
   "cell_type": "markdown",
   "metadata": {},
   "source": [
    "# compute score for create similarity matrix"
   ]
  },
  {
   "cell_type": "code",
   "execution_count": 7,
   "metadata": {},
   "outputs": [],
   "source": [
    "def deg_Diff(G1,G2):\n",
    "    Degree_Difference=np.zeros((len(G1),len(G2)))\n",
    "    for i in range(len(G1)):\n",
    "        for j in range(len(G2)):\n",
    "            Degree_Difference[i][j]=abs(degG1[i]-degG2[j])/max(degG1[i],degG2[j])\n",
    "    return Degree_Difference"
   ]
  },
  {
   "cell_type": "code",
   "execution_count": 8,
   "metadata": {},
   "outputs": [],
   "source": [
    "def score_pageRank(X):\n",
    "    a=nx.pagerank(X)\n",
    "    return a"
   ]
  },
  {
   "cell_type": "code",
   "execution_count": 9,
   "metadata": {},
   "outputs": [],
   "source": [
    "def coefficient_pagerank(x,y):  #x is G1, y is G2\n",
    "   # print(len(x))\n",
    "    p1=score_pageRank(x)\n",
    "    b=p1.values()\n",
    "    pr1=list(b)\n",
    "    p2=score_pageRank(y)\n",
    "    c=p2.values()\n",
    "    pr2=list(c)\n",
    "    pr=np.zeros((len(x),len(y)))\n",
    "    for i in range(len(x)):\n",
    "        for j in range(len(y)):\n",
    "            #print(pr1[i],pr2[j])\n",
    "            pr[i][j]=abs(pr1[i]-pr2[j])/max(pr1[i],pr2[j])   #minimum pr is maximum similarity of topology \n",
    "    return pr"
   ]
  },
  {
   "cell_type": "code",
   "execution_count": 10,
   "metadata": {},
   "outputs": [],
   "source": [
    "def coefficient_edges(index_node, G, GraphNumber):\n",
    "    if GraphNumber==1:\n",
    "        sum_edge=0        \n",
    "        for i in G.neighbors(nd1[index_node]):                       \n",
    "            sum_edge=sum_edge+degG1[nd1.index(i)]\n",
    "        #print(sum_edge)\n",
    "        temp=(degG1[index_node]-1) if degG1[index_node]> 1 else 1        \n",
    "        coeff_node=(2*sum_edge)/(degG1[index_node]*temp)\n",
    "    else:\n",
    "        sum_edge=0        \n",
    "        for i in G.neighbors(nd2[index_node]):                       \n",
    "            sum_edge=sum_edge+degG2[nd2.index(i)]\n",
    "        #print(sum_edge)\n",
    "        temp=(degG2[index_node]-1) if degG2[index_node]> 1 else 1        \n",
    "        coeff_node=(2*sum_edge)/(degG2[index_node]*temp)\n",
    "    return coeff_node"
   ]
  },
  {
   "cell_type": "code",
   "execution_count": 11,
   "metadata": {},
   "outputs": [],
   "source": [
    "def compute_Ea(G1,G2):\n",
    "    Ea_G1=np.zeros(len(G1))\n",
    "    Ea_G2=np.zeros(len(G2))\n",
    "    for i in range(len(G1)):\n",
    "        Ea_G1[i]=coefficient_edges(i, G1, 1)\n",
    "    for j in range(len(G2)):\n",
    "        Ea_G2[j]=coefficient_edges(j,G2,2)\n",
    "    ea=[Ea_G1, Ea_G2]\n",
    "    return(ea)"
   ]
  },
  {
   "cell_type": "code",
   "execution_count": 12,
   "metadata": {},
   "outputs": [],
   "source": [
    "# compute relative clustering coefficient difference between node a (in G1) and node b (in G2)\n",
    "def CD(G1, G2):\n",
    "    cd=np.zeros((len(G1),len(G2)))\n",
    "    EA=compute_Ea(G1,G2)\n",
    "    #print(EA[0])      #Ea for G1\n",
    "    #print(\"===================\")\n",
    "    #print(EA[1])      #Ea for G2\n",
    "    for i in range(len(G1)):\n",
    "        for j in range(len(G2)):\n",
    "            cd[i,j]=abs(EA[0][i]-EA[1][j])/max(EA[0][i],EA[1][j])\n",
    "    return cd"
   ]
  },
  {
   "cell_type": "code",
   "execution_count": 13,
   "metadata": {},
   "outputs": [],
   "source": [
    "def sequence_score(x,y):\n",
    "    seq=np.zeros((len(x),len(y)))\n",
    "    for i in range(len(x)):\n",
    "        for j in range(len(y)):\n",
    "            q1=G_target_na.get_edge_data(str(nd1[i]),str(nd2[j]))\n",
    "            if q1==None:\n",
    "                c=0\n",
    "            else:\n",
    "                c=list(q1.values())\n",
    "                c=c[0]\n",
    "            seq[i][j]=c    \n",
    "            \n",
    "    return seq"
   ]
  },
  {
   "cell_type": "code",
   "execution_count": 14,
   "metadata": {},
   "outputs": [],
   "source": [
    "def compute_score(G1,G2):\n",
    "    coeff_pr=coefficient_pagerank(G1,G2)\n",
    "    dd=deg_Diff(G1,G2)\n",
    "    cd=CD(G1,G2)\n",
    "    seq_sc=sequence_score(G1,G2)\n",
    "    \n",
    "    alpha=0.1\n",
    "    betta=0.2\n",
    "    gamma=0.2\n",
    "    zetta=1-alpha-betta-gamma\n",
    "    s=alpha*(1-coeff_pr)+betta*(1-dd)+gamma*(1-cd)+zetta*seq_sc\n",
    "    return s,coeff_pr, dd, cd"
   ]
  },
  {
   "cell_type": "code",
   "execution_count": 15,
   "metadata": {},
   "outputs": [],
   "source": [
    "import numpy as np\n",
    "m, coeff_pr, dd, cd=compute_score(G1,G2)\n",
    "sim=m"
   ]
  },
  {
   "cell_type": "markdown",
   "metadata": {},
   "source": [
    "# Phase 2: Dataset Generation"
   ]
  },
  {
   "cell_type": "markdown",
   "metadata": {},
   "source": [
    "# create data for deep learning"
   ]
  },
  {
   "cell_type": "markdown",
   "metadata": {},
   "source": [
    "# change problem to classification \n",
    "## [node of G1, node of G2, Coefficient page rank, clustering coefficient difference,  similarity score, alignment=yes(0)/TN or no(1)/TP]"
   ]
  },
  {
   "cell_type": "code",
   "execution_count": 16,
   "metadata": {},
   "outputs": [],
   "source": [
    "import numpy as np\n",
    "int_nd1=np.zeros(len(nd1))\n",
    "int_nd2=np.zeros(len(nd2))\n",
    "\n",
    "species=['ec','sc','ce','dm','mm','hs']\n",
    "ch1=0  #please set index for first species of species list, for example index of ec is 0\n",
    "ch2=1  #please set index for second species of species list, for example index of sc is 1\n",
    "# If don't set index with considering species may be given an error\n",
    "for i in range(len(nd1)):\n",
    "    if (species[ch1] in nd1[i] or species[ch2] in nd1[i]):\n",
    "        s=nd1[i][2:]\n",
    "        x=int(s)\n",
    "        int_nd1[i]=x    \n",
    "for i in range(len(nd2)):\n",
    "    if (species[ch1] in nd2[i] or species[ch2] in nd2[i]):\n",
    "        s=nd2[i][2:]\n",
    "        x=int(s)\n",
    "        int_nd2[i]=x    "
   ]
  },
  {
   "cell_type": "code",
   "execution_count": 17,
   "metadata": {},
   "outputs": [
    {
     "name": "stdout",
     "output_type": "stream",
     "text": [
      "130289326\n"
     ]
    }
   ],
   "source": [
    "# en_mat is encoding matrix\n",
    "en_mat=[]\n",
    "\n",
    "for i in range(len(nd1)):\n",
    "    for j in range(len(nd2)):\n",
    "        if G_target_na.has_edge(nd1[i],nd2[j]):\n",
    "            align_class='Yes'\n",
    "        else:\n",
    "            align_class='No'\n",
    "        \n",
    "        sample=[int_nd1[i],int_nd2[j], coeff_pr[i][j], dd[i][j],cd[i][j],sim[i][j],align_class] \n",
    "        en_mat.append(sample)\n",
    "print(len(en_mat))"
   ]
  },
  {
   "cell_type": "code",
   "execution_count": 18,
   "metadata": {},
   "outputs": [
    {
     "name": "stdout",
     "output_type": "stream",
     "text": [
      "36069 130253257\n"
     ]
    }
   ],
   "source": [
    "yc=[]\n",
    "noc=[]\n",
    "for i in range(len(en_mat)):\n",
    "    if en_mat[i][6]=='Yes': \n",
    "        yc.append(en_mat[i])\n",
    "    else:\n",
    "        noc.append(en_mat[i])\n",
    "print(len(yc), len(noc))"
   ]
  },
  {
   "cell_type": "code",
   "execution_count": 19,
   "metadata": {},
   "outputs": [
    {
     "data": {
      "text/plain": [
       "(30036069, 30036069)"
      ]
     },
     "execution_count": 19,
     "metadata": {},
     "output_type": "execute_result"
    }
   ],
   "source": [
    "data=yc+noc[0:30000000] \n",
    "len(data)\n",
    "X=[]\n",
    "y=[]\n",
    "for i in range(len(data)):\n",
    "    X.append(data[i][0:6])\n",
    "    y.append(data[i][6])\n",
    "    \n",
    "len(X),len(y)"
   ]
  },
  {
   "cell_type": "code",
   "execution_count": 19,
   "metadata": {},
   "outputs": [
    {
     "data": {
      "text/plain": [
       "(30036069, 30036069)"
      ]
     },
     "execution_count": 19,
     "metadata": {},
     "output_type": "execute_result"
    }
   ],
   "source": [
    "data=yc+noc[0:30000000] \n",
    "len(data)\n",
    "X=[data[i][0:7] for i in range(len(data))]\n",
    "y=[data[i][7] for i in range(len(data))]\n",
    "len(X),len(y)"
   ]
  },
  {
   "cell_type": "code",
   "execution_count": 39,
   "metadata": {},
   "outputs": [],
   "source": [
    "from sklearn.model_selection import train_test_split\n",
    "X_train, X_test, y_train, y_test = train_test_split(X, y, test_size=0.1)"
   ]
  },
  {
   "cell_type": "code",
   "execution_count": 23,
   "metadata": {},
   "outputs": [
    {
     "name": "stdout",
     "output_type": "stream",
     "text": [
      "27032462 27032462 3003607 3003607\n"
     ]
    }
   ],
   "source": [
    "print(len(X_train), len(y_train), len(X_test), len(y_test))"
   ]
  },
  {
   "cell_type": "code",
   "execution_count": 21,
   "metadata": {},
   "outputs": [
    {
     "data": {
      "text/html": [
       "<div>\n",
       "<style scoped>\n",
       "    .dataframe tbody tr th:only-of-type {\n",
       "        vertical-align: middle;\n",
       "    }\n",
       "\n",
       "    .dataframe tbody tr th {\n",
       "        vertical-align: top;\n",
       "    }\n",
       "\n",
       "    .dataframe thead th {\n",
       "        text-align: right;\n",
       "    }\n",
       "</style>\n",
       "<table border=\"1\" class=\"dataframe\">\n",
       "  <thead>\n",
       "    <tr style=\"text-align: right;\">\n",
       "      <th></th>\n",
       "      <th>node_of_G1</th>\n",
       "      <th>node_of_G2</th>\n",
       "      <th>Coefficient_pagerank</th>\n",
       "      <th>Degree_Difference</th>\n",
       "      <th>clustering_coefficient_difference</th>\n",
       "      <th>similarity_score</th>\n",
       "      <th>alignment_class</th>\n",
       "    </tr>\n",
       "  </thead>\n",
       "  <tbody>\n",
       "    <tr>\n",
       "      <th>0</th>\n",
       "      <td>4957.0</td>\n",
       "      <td>1135.0</td>\n",
       "      <td>0.587525</td>\n",
       "      <td>0.857143</td>\n",
       "      <td>0.376590</td>\n",
       "      <td>0.194501</td>\n",
       "      <td>No</td>\n",
       "    </tr>\n",
       "    <tr>\n",
       "      <th>1</th>\n",
       "      <td>4957.0</td>\n",
       "      <td>2121.0</td>\n",
       "      <td>0.451251</td>\n",
       "      <td>0.933333</td>\n",
       "      <td>0.261905</td>\n",
       "      <td>0.215827</td>\n",
       "      <td>No</td>\n",
       "    </tr>\n",
       "    <tr>\n",
       "      <th>2</th>\n",
       "      <td>4957.0</td>\n",
       "      <td>2223.0</td>\n",
       "      <td>0.514533</td>\n",
       "      <td>0.931818</td>\n",
       "      <td>0.239807</td>\n",
       "      <td>0.214222</td>\n",
       "      <td>No</td>\n",
       "    </tr>\n",
       "    <tr>\n",
       "      <th>3</th>\n",
       "      <td>4957.0</td>\n",
       "      <td>7526.0</td>\n",
       "      <td>0.427855</td>\n",
       "      <td>0.930233</td>\n",
       "      <td>0.231134</td>\n",
       "      <td>0.224941</td>\n",
       "      <td>No</td>\n",
       "    </tr>\n",
       "    <tr>\n",
       "      <th>4</th>\n",
       "      <td>4957.0</td>\n",
       "      <td>1189.0</td>\n",
       "      <td>0.241747</td>\n",
       "      <td>0.930233</td>\n",
       "      <td>0.217371</td>\n",
       "      <td>0.246305</td>\n",
       "      <td>No</td>\n",
       "    </tr>\n",
       "  </tbody>\n",
       "</table>\n",
       "</div>"
      ],
      "text/plain": [
       "   node_of_G1  node_of_G2  Coefficient_pagerank  Degree_Difference  \\\n",
       "0      4957.0      1135.0              0.587525           0.857143   \n",
       "1      4957.0      2121.0              0.451251           0.933333   \n",
       "2      4957.0      2223.0              0.514533           0.931818   \n",
       "3      4957.0      7526.0              0.427855           0.930233   \n",
       "4      4957.0      1189.0              0.241747           0.930233   \n",
       "\n",
       "   clustering_coefficient_difference  similarity_score alignment_class  \n",
       "0                           0.376590          0.194501              No  \n",
       "1                           0.261905          0.215827              No  \n",
       "2                           0.239807          0.214222              No  \n",
       "3                           0.231134          0.224941              No  \n",
       "4                           0.217371          0.246305              No  "
      ]
     },
     "execution_count": 21,
     "metadata": {},
     "output_type": "execute_result"
    }
   ],
   "source": [
    "import pandas as pd\n",
    "f=pd.DataFrame(en_mat,columns=['node_of_G1','node_of_G2','Coefficient_pagerank','Degree_Difference', 'clustering_coefficient_difference', 'similarity_score', 'alignment_class'])\n",
    "f.head()"
   ]
  },
  {
   "cell_type": "code",
   "execution_count": 33,
   "metadata": {},
   "outputs": [
    {
     "data": {
      "image/png": "[encoded data removed]",
      "text/plain": [
       "<Figure size 432x288 with 1 Axes>"
      ]
     },
     "metadata": {
      "needs_background": "light"
     },
     "output_type": "display_data"
    }
   ],
   "source": [
    "import matplotlib.pyplot as plt\n",
    "plt.scatter(f['node_of_G1'], f['alignment_class'])\n",
    "plt.show()"
   ]
  },
  {
   "cell_type": "code",
   "execution_count": 34,
   "metadata": {},
   "outputs": [
    {
     "data": {
      "image/png": "[encoded data removed]",
      "text/plain": [
       "<Figure size 432x288 with 1 Axes>"
      ]
     },
     "metadata": {
      "needs_background": "light"
     },
     "output_type": "display_data"
    }
   ],
   "source": [
    "import matplotlib.pyplot as plt\n",
    "plt.scatter(f['node_of_G2'], f['alignment_class'])\n",
    "plt.show()"
   ]
  },
  {
   "cell_type": "code",
   "execution_count": 32,
   "metadata": {},
   "outputs": [
    {
     "data": {
      "image/png": "[encoded data removed]",
      "text/plain": [
       "<Figure size 432x288 with 1 Axes>"
      ]
     },
     "metadata": {
      "needs_background": "light"
     },
     "output_type": "display_data"
    }
   ],
   "source": [
    "import matplotlib.pyplot as plt\n",
    "plt.scatter(f['Degree_Difference'], f['alignment_class'])\n",
    "plt.show()"
   ]
  },
  {
   "cell_type": "code",
   "execution_count": 31,
   "metadata": {},
   "outputs": [
    {
     "data": {
      "image/png": "[encoded data removed]",
      "text/plain": [
       "<Figure size 432x288 with 1 Axes>"
      ]
     },
     "metadata": {
      "needs_background": "light"
     },
     "output_type": "display_data"
    }
   ],
   "source": [
    "import matplotlib.pyplot as plt\n",
    "plt.scatter(f['Coefficient_pagerank'], f['alignment_class'])\n",
    "plt.show()"
   ]
  },
  {
   "cell_type": "code",
   "execution_count": 28,
   "metadata": {},
   "outputs": [
    {
     "data": {
      "image/png": "[encoded data removed]",
      "text/plain": [
       "<Figure size 432x288 with 1 Axes>"
      ]
     },
     "metadata": {
      "needs_background": "light"
     },
     "output_type": "display_data"
    }
   ],
   "source": [
    "import matplotlib.pyplot as plt\n",
    "plt.scatter(f['clustering_coefficient_difference'], f['alignment_class'])\n",
    "plt.show()"
   ]
  },
  {
   "cell_type": "code",
   "execution_count": 22,
   "metadata": {},
   "outputs": [
    {
     "data": {
      "image/png": "[encoded data removed]",
      "text/plain": [
       "<Figure size 432x288 with 1 Axes>"
      ]
     },
     "metadata": {
      "needs_background": "light"
     },
     "output_type": "display_data"
    }
   ],
   "source": [
    "import matplotlib.pyplot as plt\n",
    "plt.scatter(f['similarity_score'], f['alignment_class'])\n",
    "plt.show()"
   ]
  },
  {
   "cell_type": "code",
   "execution_count": 27,
   "metadata": {},
   "outputs": [
    {
     "data": {
      "image/png": "[encoded data removed]",
      "text/plain": [
       "<Figure size 720x720 with 2 Axes>"
      ]
     },
     "metadata": {
      "needs_background": "light"
     },
     "output_type": "display_data"
    }
   ],
   "source": [
    "import matplotlib.pyplot as plt\n",
    "import seaborn as sns\n",
    "import pandas as pd\n",
    "#f=pd.DataFrame(X_train)\n",
    "corr = f.corr()\n",
    "   #Plot figsize\n",
    "fig, ax = plt.subplots(figsize=(10, 10))\n",
    "    #Generate Color Map, red & blue\n",
    "colormap = sns.diverging_palette(220, 10, as_cmap=True)\n",
    "    #Generate Heat Map, allow annotations and place floats in map\n",
    "sns.heatmap(corr, cmap=colormap, annot=True, fmt=\".2f\")\n",
    "    #Apply xticks\n",
    "plt.xticks(range(len(corr.columns)), corr.columns);\n",
    "    #Apply yticks\n",
    "plt.yticks(range(len(corr.columns)), corr.columns)\n",
    "    #show plot\n",
    "plt.show()"
   ]
  },
  {
   "cell_type": "code",
   "execution_count": 37,
   "metadata": {},
   "outputs": [
    {
     "name": "stdout",
     "output_type": "stream",
     "text": [
      "1439.433565120292 0.0046957873694995714 0.29651539410216277 0.26380669119349875\n"
     ]
    }
   ],
   "source": [
    "import numpy as np\n",
    "print(max(f.similarity_score),min(f.similarity_score),np.mean(f.similarity_score),np.median(f.similarity_score))"
   ]
  },
  {
   "cell_type": "code",
   "execution_count": 40,
   "metadata": {},
   "outputs": [],
   "source": [
    "x_tr,y_tr,x_te,y_te=X_train, y_train,X_test,y_test"
   ]
  },
  {
   "cell_type": "markdown",
   "metadata": {},
   "source": [
    "# test model for real data"
   ]
  },
  {
   "cell_type": "code",
   "execution_count": null,
   "metadata": {},
   "outputs": [],
   "source": [
    "# Label encode Class (Species)\n",
    "from sklearn.preprocessing import LabelEncoder\n",
    "from keras.utils import np_utils\n",
    "encoder = LabelEncoder()\n",
    "encoder.fit(y_train)\n",
    "encoded_Y = encoder.transform(y_train)\n",
    "# One Hot Encode\n",
    "y_train = np_utils.to_categorical(encoded_Y)"
   ]
  },
  {
   "cell_type": "code",
   "execution_count": null,
   "metadata": {},
   "outputs": [],
   "source": [
    "# Label encode Class (Species)\n",
    "from sklearn.preprocessing import LabelEncoder\n",
    "from keras.utils import np_utils\n",
    "encoder = LabelEncoder()\n",
    "encoder.fit(y_test)\n",
    "encoded_Y = encoder.transform(y_test)\n",
    "# One Hot Encode\n",
    "y_test = np_utils.to_categorical(encoded_Y)"
   ]
  },
  {
   "cell_type": "code",
   "execution_count": null,
   "metadata": {},
   "outputs": [],
   "source": [
    "import numpy as np\n",
    "X_train=np.array(X_train)\n",
    "y_train=np.array(y_train)\n",
    "X_test=np.array(X_test)\n",
    "y_test=np.array(y_test)"
   ]
  },
  {
   "cell_type": "markdown",
   "metadata": {},
   "source": [
    "# Phase 3: RENA network"
   ]
  },
  {
   "cell_type": "markdown",
   "metadata": {},
   "source": [
    "## Load tune RENA model"
   ]
  },
  {
   "cell_type": "code",
   "execution_count": 44,
   "metadata": {},
   "outputs": [],
   "source": [
    "from keras.models import load_model\n",
    "#del model\n",
    "model_rnn = load_model('large dataset/deep_model_resample_6features_undersampling-rnn_ec-sc.h5')\n",
    "model_rnn.load_weights('large dataset/deep_model_resample_6features_undersampling-rnn_weights_ec-sc.h5', by_name=True)"
   ]
  },
  {
   "cell_type": "code",
   "execution_count": 46,
   "metadata": {},
   "outputs": [
    {
     "name": "stdout",
     "output_type": "stream",
     "text": [
      "27032462/27032462 [==============================] - 1584s 59us/step\n"
     ]
    },
    {
     "data": {
      "text/plain": [
       "[0.0, 1.0, 0.0, 0.0]"
      ]
     },
     "execution_count": 46,
     "metadata": {},
     "output_type": "execute_result"
    }
   ],
   "source": [
    "results_tr = model_rnn.evaluate(X_train, y_train)\n",
    "results_tr"
   ]
  },
  {
   "cell_type": "code",
   "execution_count": 47,
   "metadata": {},
   "outputs": [
    {
     "name": "stdout",
     "output_type": "stream",
     "text": [
      "Wall time: 12min 31s\n"
     ]
    },
    {
     "data": {
      "text/plain": [
       "array([[1., 0.],\n",
       "       [1., 0.],\n",
       "       [1., 0.],\n",
       "       ...,\n",
       "       [1., 0.],\n",
       "       [1., 0.],\n",
       "       [1., 0.]], dtype=float32)"
      ]
     },
     "execution_count": 47,
     "metadata": {},
     "output_type": "execute_result"
    }
   ],
   "source": [
    "%%time\n",
    "output_tr=model_rnn.predict(X_train)\n",
    "output_tr"
   ]
  },
  {
   "cell_type": "code",
   "execution_count": 48,
   "metadata": {},
   "outputs": [
    {
     "name": "stdout",
     "output_type": "stream",
     "text": [
      "[[27000030        0]\n",
      " [       0    32432]]\n"
     ]
    }
   ],
   "source": [
    "from sklearn.metrics import confusion_matrix\n",
    "print(confusion_matrix(y_train.argmax(axis=1), output_tr.argmax(axis=1)))"
   ]
  },
  {
   "cell_type": "code",
   "execution_count": 49,
   "metadata": {},
   "outputs": [
    {
     "name": "stdout",
     "output_type": "stream",
     "text": [
      "1.0\n",
      "1.0\n",
      "1.0\n"
     ]
    }
   ],
   "source": [
    "from sklearn.metrics import f1_score, precision_score, recall_score\n",
    "print(precision_score(y_train.argmax(axis=1), output_tr.argmax(axis=1) , average=\"macro\"))\n",
    "print(recall_score(y_train.argmax(axis=1), output_tr.argmax(axis=1) , average=\"macro\"))\n",
    "print(f1_score(y_train.argmax(axis=1), output_tr.argmax(axis=1) , average=\"macro\"))"
   ]
  },
  {
   "cell_type": "code",
   "execution_count": 50,
   "metadata": {},
   "outputs": [
    {
     "name": "stdout",
     "output_type": "stream",
     "text": [
      "3003607/3003607 [==============================] - 190s 63us/step\n"
     ]
    },
    {
     "data": {
      "text/plain": [
       "[0.0, 1.0, 0.0, 0.0]"
      ]
     },
     "execution_count": 50,
     "metadata": {},
     "output_type": "execute_result"
    }
   ],
   "source": [
    "results_te = model_rnn.evaluate(X_test, y_test)\n",
    "results_te"
   ]
  },
  {
   "cell_type": "code",
   "execution_count": 51,
   "metadata": {},
   "outputs": [
    {
     "name": "stdout",
     "output_type": "stream",
     "text": [
      "[[2999970       0]\n",
      " [      0    3637]]\n",
      "1.0\n",
      "1.0\n",
      "1.0\n",
      "Wall time: 1min 30s\n"
     ]
    }
   ],
   "source": [
    "%%time\n",
    "output_te=model_rnn.predict(X_test)\n",
    "#print(output_te)\n",
    "from sklearn.metrics import confusion_matrix\n",
    "print(confusion_matrix(y_test.argmax(axis=1), output_te.argmax(axis=1)))\n",
    "from sklearn.metrics import f1_score, precision_score, recall_score\n",
    "print(precision_score(y_test.argmax(axis=1), output_te.argmax(axis=1) , average=\"macro\"))\n",
    "print(recall_score(y_test.argmax(axis=1), output_te.argmax(axis=1) , average=\"macro\"))\n",
    "print(f1_score(y_test.argmax(axis=1), output_te.argmax(axis=1) , average=\"macro\"))"
   ]
  },
  {
   "cell_type": "markdown",
   "metadata": {},
   "source": [
    "# Test RENA before resample"
   ]
  },
  {
   "cell_type": "code",
   "execution_count": 52,
   "metadata": {},
   "outputs": [],
   "source": [
    "from keras.models import load_model\n",
    "model_rnn = load_model('large dataset/deep_model_before_resample_6features_rnn_ec-sc.h5')\n",
    "model_rnn.load_weights('large dataset/deep_model_before_resample_6features_rnn_weights_ec-sc', by_name=True)"
   ]
  },
  {
   "cell_type": "code",
   "execution_count": 53,
   "metadata": {},
   "outputs": [
    {
     "name": "stdout",
     "output_type": "stream",
     "text": [
      "27032462/27032462 [==============================] - 1608s 59us/step\n"
     ]
    },
    {
     "data": {
      "text/plain": [
       "[nan, 0.9992299675941467, nan, nan]"
      ]
     },
     "execution_count": 53,
     "metadata": {},
     "output_type": "execute_result"
    }
   ],
   "source": [
    "results_tr = model_rnn.evaluate(X_train, y_train)\n",
    "results_tr"
   ]
  },
  {
   "cell_type": "code",
   "execution_count": 54,
   "metadata": {},
   "outputs": [
    {
     "name": "stdout",
     "output_type": "stream",
     "text": [
      "Wall time: 13min 3s\n"
     ]
    },
    {
     "data": {
      "text/plain": [
       "array([[nan, nan],\n",
       "       [nan, nan],\n",
       "       [nan, nan],\n",
       "       ...,\n",
       "       [nan, nan],\n",
       "       [nan, nan],\n",
       "       [nan, nan]], dtype=float32)"
      ]
     },
     "execution_count": 54,
     "metadata": {},
     "output_type": "execute_result"
    }
   ],
   "source": [
    "%%time\n",
    "output_tr=model_rnn.predict(X_train)\n",
    "output_tr"
   ]
  },
  {
   "cell_type": "code",
   "execution_count": 55,
   "metadata": {},
   "outputs": [
    {
     "name": "stdout",
     "output_type": "stream",
     "text": [
      "[[27000030        0]\n",
      " [   32432        0]]\n"
     ]
    }
   ],
   "source": [
    "from sklearn.metrics import confusion_matrix\n",
    "print(confusion_matrix(y_train.argmax(axis=1), output_tr.argmax(axis=1)))"
   ]
  },
  {
   "cell_type": "code",
   "execution_count": 56,
   "metadata": {},
   "outputs": [
    {
     "name": "stderr",
     "output_type": "stream",
     "text": [
      "C:\\Users\\ASUS\\Anaconda3\\lib\\site-packages\\sklearn\\metrics\\_classification.py:1272: UndefinedMetricWarning: Precision is ill-defined and being set to 0.0 in labels with no predicted samples. Use `zero_division` parameter to control this behavior.\n",
      "  _warn_prf(average, modifier, msg_start, len(result))\n"
     ]
    },
    {
     "name": "stdout",
     "output_type": "stream",
     "text": [
      "0.4994001286305332\n",
      "0.5\n",
      "0.4996998842844413\n"
     ]
    }
   ],
   "source": [
    "from sklearn.metrics import f1_score, precision_score, recall_score\n",
    "print(precision_score(y_train.argmax(axis=1), output_tr.argmax(axis=1) , average=\"macro\"))\n",
    "print(recall_score(y_train.argmax(axis=1), output_tr.argmax(axis=1) , average=\"macro\"))\n",
    "print(f1_score(y_train.argmax(axis=1), output_tr.argmax(axis=1) , average=\"macro\"))"
   ]
  },
  {
   "cell_type": "code",
   "execution_count": 57,
   "metadata": {},
   "outputs": [
    {
     "name": "stdout",
     "output_type": "stream",
     "text": [
      "3003607/3003607 [==============================] - 189s 63us/step\n"
     ]
    },
    {
     "data": {
      "text/plain": [
       "[nan, 0.9987891316413879, nan, nan]"
      ]
     },
     "execution_count": 57,
     "metadata": {},
     "output_type": "execute_result"
    }
   ],
   "source": [
    "results_te = model_rnn.evaluate(X_test, y_test)\n",
    "results_te"
   ]
  },
  {
   "cell_type": "code",
   "execution_count": 58,
   "metadata": {},
   "outputs": [
    {
     "name": "stdout",
     "output_type": "stream",
     "text": [
      "[[2999970       0]\n",
      " [   3637       0]]\n",
      "0.4993945612724967\n",
      "0.5\n",
      "0.49969709724719114\n",
      "Wall time: 1min 29s\n"
     ]
    }
   ],
   "source": [
    "%%time\n",
    "output_te=model_rnn.predict(X_test)\n",
    "#print(output_te)\n",
    "from sklearn.metrics import confusion_matrix\n",
    "print(confusion_matrix(y_test.argmax(axis=1), output_te.argmax(axis=1)))\n",
    "from sklearn.metrics import f1_score, precision_score, recall_score\n",
    "print(precision_score(y_test.argmax(axis=1), output_te.argmax(axis=1) , average=\"macro\"))\n",
    "print(recall_score(y_test.argmax(axis=1), output_te.argmax(axis=1) , average=\"macro\"))\n",
    "print(f1_score(y_test.argmax(axis=1), output_te.argmax(axis=1) , average=\"macro\"))"
   ]
  },
  {
   "cell_type": "markdown",
   "metadata": {},
   "source": [
    "# test other classifier without resample"
   ]
  },
  {
   "cell_type": "code",
   "execution_count": 59,
   "metadata": {},
   "outputs": [],
   "source": [
    "x_tra,y_tra,x_tes,y_tes=X_train,y_train,X_test,y_test"
   ]
  },
  {
   "cell_type": "code",
   "execution_count": 60,
   "metadata": {},
   "outputs": [],
   "source": [
    "X_train,y_train,X_test,y_test=x_tr,y_tr,x_te,y_te"
   ]
  },
  {
   "cell_type": "code",
   "execution_count": 79,
   "metadata": {},
   "outputs": [
    {
     "name": "stdout",
     "output_type": "stream",
     "text": [
      "Accuracy of LDA classifier on training set: 1.00\n",
      "Accuracy of LDA classifier on test set: 1.00\n",
      "Wall time: 1min 38s\n"
     ]
    }
   ],
   "source": [
    "%%time\n",
    "# Linear Discriminant Analysis\n",
    "\n",
    "from sklearn.discriminant_analysis import LinearDiscriminantAnalysis\n",
    "lda = LinearDiscriminantAnalysis()\n",
    "lda.fit(X_train, y_train)\n",
    "print('Accuracy of LDA classifier on training set: {:.2f}'\n",
    "     .format(lda.score(X_train, y_train)))\n",
    "print('Accuracy of LDA classifier on test set: {:.2f}'\n",
    "     .format(lda.score(X_test, y_test)))"
   ]
  },
  {
   "cell_type": "code",
   "execution_count": 80,
   "metadata": {},
   "outputs": [
    {
     "name": "stdout",
     "output_type": "stream",
     "text": [
      "['No' 'No' 'No' ... 'No' 'No' 'No']\n",
      "0.9998236194690665\n",
      "[[27000030        0]\n",
      " [    4768    27664]]\n",
      "0.9999117193914948\n",
      "0.9264923532313765\n",
      "0.9602859942438249\n",
      "Wall time: 3min 42s\n"
     ]
    }
   ],
   "source": [
    "%%time\n",
    "from sklearn.metrics import f1_score, precision_score, recall_score,confusion_matrix\n",
    "# Make predictions\n",
    "preds_tr = lda.predict(X_train)\n",
    "print(preds_tr)\n",
    "\n",
    "# Evaluate accuracy\n",
    "print(accuracy_score(y_train, preds_tr))\n",
    "\n",
    "print(confusion_matrix(y_train, preds_tr))\n",
    "print(precision_score(y_train, preds_tr , average=\"macro\"))\n",
    "print(recall_score(y_train, preds_tr , average=\"macro\"))\n",
    "print(f1_score(y_train, preds_tr , average=\"macro\"))"
   ]
  },
  {
   "cell_type": "code",
   "execution_count": 81,
   "metadata": {},
   "outputs": [
    {
     "name": "stdout",
     "output_type": "stream",
     "text": [
      "['No' 'No' 'No' ... 'No' 'No' 'No']\n",
      "0.9998248772226194\n",
      "[[2999970       0]\n",
      " [    526    3111]]\n",
      "0.9999123478251596\n",
      "0.9276876546604345\n",
      "0.960981659104579\n",
      "Wall time: 23.5 s\n"
     ]
    }
   ],
   "source": [
    "%%time\n",
    "from sklearn.metrics import f1_score, precision_score, recall_score,confusion_matrix\n",
    "# Make predictions\n",
    "preds = lda.predict(X_test)\n",
    "print(preds)\n",
    "\n",
    "# Evaluate accuracy\n",
    "print(accuracy_score(y_test, preds))\n",
    "\n",
    "print(confusion_matrix(y_test, preds))\n",
    "print(precision_score(y_test, preds , average=\"macro\"))\n",
    "print(recall_score(y_test, preds , average=\"macro\"))\n",
    "print(f1_score(y_test, preds , average=\"macro\"))"
   ]
  },
  {
   "cell_type": "code",
   "execution_count": 82,
   "metadata": {},
   "outputs": [
    {
     "name": "stdout",
     "output_type": "stream",
     "text": [
      "0.9995415512082639\n",
      "[[2999970       0]\n",
      " [   1377    2260]]\n",
      "0.9997706029992534\n",
      "0.8106956282650536\n",
      "0.8831309933438747\n"
     ]
    }
   ],
   "source": [
    "import pickle\n",
    "with open('large dataset/saved_ldamodel_ec-hp.pickle','rb') as f:\n",
    "    lda_from_pickle=pickle.load(f)\n",
    "preds=lda_from_pickle.predict(X_test)\n",
    "# Evaluate accuracy\n",
    "print(accuracy_score(y_test, preds))\n",
    "\n",
    "print(confusion_matrix(y_test, preds))\n",
    "print(precision_score(y_test, preds , average=\"macro\"))\n",
    "print(recall_score(y_test, preds , average=\"macro\"))\n",
    "print(f1_score(y_test, preds , average=\"macro\"))"
   ]
  },
  {
   "cell_type": "code",
   "execution_count": 83,
   "metadata": {},
   "outputs": [
    {
     "name": "stdout",
     "output_type": "stream",
     "text": [
      "['No' 'No' 'No' ... 'No' 'No' 'No']\n",
      "0.9995489127109473\n",
      "[[27000030        0]\n",
      " [   12194    20238]]\n",
      "0.9997742873744865\n",
      "0.8120066600888012\n",
      "0.884128621910695\n"
     ]
    }
   ],
   "source": [
    "preds_tr = lda_from_pickle.predict(X_train)\n",
    "print(preds_tr)\n",
    "\n",
    "# Evaluate accuracy\n",
    "print(accuracy_score(y_train, preds_tr))\n",
    "\n",
    "print(confusion_matrix(y_train, preds_tr))\n",
    "print(precision_score(y_train, preds_tr , average=\"macro\"))\n",
    "print(recall_score(y_train, preds_tr , average=\"macro\"))\n",
    "print(f1_score(y_train, preds_tr , average=\"macro\"))"
   ]
  },
  {
   "cell_type": "code",
   "execution_count": 41,
   "metadata": {},
   "outputs": [
    {
     "name": "stdout",
     "output_type": "stream",
     "text": [
      "Accuracy of KNN classifier on training set: 1.00\n",
      "Accuracy of KNN classifier on test set: 1.00\n",
      "Wall time: 3h 3min 2s\n"
     ]
    }
   ],
   "source": [
    "%%time\n",
    "# KNN\n",
    "from sklearn.neighbors import KNeighborsClassifier\n",
    "knn = KNeighborsClassifier()\n",
    "knn.fit(X_train, y_train)\n",
    "print('Accuracy of KNN classifier on training set: {:.2f}'\n",
    "     .format(knn.score(X_train, y_train)))\n",
    "print('Accuracy of KNN classifier on test set: {:.2f}'\n",
    "     .format(knn.score(X_test, y_test)))"
   ]
  },
  {
   "cell_type": "code",
   "execution_count": 42,
   "metadata": {},
   "outputs": [
    {
     "name": "stdout",
     "output_type": "stream",
     "text": [
      "['No' 'No' 'No' ... 'No' 'No' 'No']\n",
      "0.999618532710783\n",
      "[[26999995        0]\n",
      " [   10312    22155]]\n",
      "0.9998091099075623\n",
      "0.8411925955585672\n",
      "0.9055103365916508\n",
      "Wall time: 21min 25s\n"
     ]
    }
   ],
   "source": [
    "%%time\n",
    "from sklearn.metrics import f1_score, precision_score, recall_score,confusion_matrix,accuracy_score\n",
    "# Make predictions\n",
    "preds_tr = knn.predict(X_train)\n",
    "print(preds_tr)\n",
    "\n",
    "# Evaluate accuracy\n",
    "print(accuracy_score(y_train, preds_tr))\n",
    "\n",
    "print(confusion_matrix(y_train, preds_tr))\n",
    "print(precision_score(y_train, preds_tr , average=\"macro\"))\n",
    "print(recall_score(y_train, preds_tr , average=\"macro\"))\n",
    "print(f1_score(y_train, preds_tr , average=\"macro\"))"
   ]
  },
  {
   "cell_type": "code",
   "execution_count": 43,
   "metadata": {},
   "outputs": [
    {
     "name": "stdout",
     "output_type": "stream",
     "text": [
      "['No' 'No' 'No' ... 'No' 'No' 'No']\n",
      "0.9994802915294844\n",
      "[[3000005       0]\n",
      " [   1561    2041]]\n",
      "0.999739969069479\n",
      "0.7833148250971682\n",
      "0.8615569966154759\n",
      "Wall time: 2min 19s\n"
     ]
    }
   ],
   "source": [
    "%%time\n",
    "from sklearn.metrics import f1_score, precision_score, recall_score, confusion_matrix,accuracy_score\n",
    "# Make predictions\n",
    "preds =  knn.predict(X_test)\n",
    "print(preds)\n",
    "\n",
    "# Evaluate accuracy\n",
    "print(accuracy_score(y_test, preds))\n",
    "\n",
    "print(confusion_matrix(y_test, preds))\n",
    "print(precision_score(y_test, preds , average=\"macro\"))\n",
    "print(recall_score(y_test, preds , average=\"macro\"))\n",
    "print(f1_score(y_test, preds , average=\"macro\"))"
   ]
  },
  {
   "cell_type": "code",
   "execution_count": 44,
   "metadata": {},
   "outputs": [
    {
     "name": "stdout",
     "output_type": "stream",
     "text": [
      "Accuracy of SVM classifier on training set: 1.00\n",
      "Accuracy of SVM classifier on test set: 1.00\n",
      "Wall time: 6h 33min 58s\n"
     ]
    }
   ],
   "source": [
    "%%time\n",
    "# SVM\n",
    "from sklearn.svm import SVC\n",
    "svm = SVC()\n",
    "svm.fit(X_train, y_train)\n",
    "print('Accuracy of SVM classifier on training set: {:.2f}'\n",
    "     .format(svm.score(X_train, y_train)))\n",
    "print('Accuracy of SVM classifier on test set: {:.2f}'\n",
    "     .format(svm.score(X_test, y_test)))"
   ]
  },
  {
   "cell_type": "code",
   "execution_count": 45,
   "metadata": {},
   "outputs": [
    {
     "name": "stdout",
     "output_type": "stream",
     "text": [
      "['No' 'No' 'No' ... 'No' 'No' 'No']\n",
      "0.99953948765927\n",
      "[[27000030        0]\n",
      " [   12465    19967]]\n",
      "0.9996795299348626\n",
      "0.8115791854285627\n",
      "0.8958253635748514\n",
      "Wall time: 6h 13min 22s\n"
     ]
    }
   ],
   "source": [
    "%%time\n",
    "from sklearn.metrics import f1_score, precision_score, recall_score,confusion_matrix,accuracy_score\n",
    "# Make predictions\n",
    "preds_tr = svm.predict(X_train)\n",
    "print(preds_tr)\n",
    "\n",
    "# Evaluate accuracy\n",
    "print(accuracy_score(y_train, preds_tr))\n",
    "\n",
    "print(confusion_matrix(y_train, preds_tr))\n",
    "print(precision_score(y_train, preds_tr , average=\"macro\"))\n",
    "print(recall_score(y_train, preds_tr , average=\"macro\"))\n",
    "print(f1_score(y_train, preds_tr , average=\"macro\"))"
   ]
  },
  {
   "cell_type": "code",
   "execution_count": 46,
   "metadata": {},
   "outputs": [
    {
     "name": "stdout",
     "output_type": "stream",
     "text": [
      "['No' 'No' 'No' ... 'No' 'No' 'No']\n",
      "0.99938828664298\n",
      "[[2999970        0]\n",
      " [   1837    1800]]\n",
      "0.9995384286148412\n",
      "0.7382361257298514\n",
      "0.8492283135115736\n",
      "Wall time: 12min 59s\n"
     ]
    }
   ],
   "source": [
    "%%time\n",
    "from sklearn.metrics import f1_score, precision_score, recall_score,confusion_matrix,accuracy_score\n",
    "# Make predictions\n",
    "preds = svm.predict(X_test)\n",
    "print(preds)\n",
    "\n",
    "# Evaluate accuracy\n",
    "print(accuracy_score(y_test, preds))\n",
    "\n",
    "print(confusion_matrix(y_test, preds))\n",
    "print(precision_score(y_test, preds , average=\"macro\"))\n",
    "print(recall_score(y_test, preds , average=\"macro\"))\n",
    "print(f1_score(y_test, preds , average=\"macro\"))"
   ]
  },
  {
   "cell_type": "code",
   "execution_count": null,
   "metadata": {},
   "outputs": [],
   "source": []
  }
 ],
 "metadata": {
  "kernelspec": {
   "display_name": "Python 3",
   "language": "python",
   "name": "python3"
  },
  "language_info": {
   "codemirror_mode": {
    "name": "ipython",
    "version": 3
   },
   "file_extension": ".py",
   "mimetype": "text/x-python",
   "name": "python",
   "nbconvert_exporter": "python",
   "pygments_lexer": "ipython3",
   "version": "3.7.3"
  }
 },
 "nbformat": 4,
 "nbformat_minor": 2
}
